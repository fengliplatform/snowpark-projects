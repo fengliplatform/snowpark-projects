{
 "cells": [
  {
   "cell_type": "code",
   "execution_count": 1,
   "metadata": {},
   "outputs": [
    {
     "name": "stderr",
     "output_type": "stream",
     "text": [
      "c:\\Users\\6119811\\anaconda3\\envs\\py38\\lib\\site-packages\\snowflake\\connector\\options.py:96: UserWarning: You have an incompatible version of 'pyarrow' installed (10.0.1), please install a version that adheres to: 'pyarrow<8.1.0,>=8.0.0; extra == \"pandas\"'\n",
      "  warn_incompatible_dep(\n"
     ]
    }
   ],
   "source": [
    "from snowflake.snowpark.session import Session\n",
    "#import numpy as np\n",
    "import numpy as np\n",
    "import pandas as pd\n",
    "import seaborn as sns\n",
    "import matplotlib.pyplot as plt"
   ]
  },
  {
   "cell_type": "code",
   "execution_count": 5,
   "metadata": {},
   "outputs": [],
   "source": [
    "# Create Session object\n",
    "def create_session_object():\n",
    "   connection_parameters = {\n",
    "      \"account\": \"xxxx.ca-central-1.aws\",\n",
    "      \"user\": \"xxxx\",\n",
    "      \"password\": \"xxxx\",\n",
    "      \"role\": \"sysadmin\",\n",
    "      \"warehouse\": \"compute_WH\",\n",
    "      \"database\": \"fengdb\",\n",
    "      \"schema\": \"fengschema\"\n",
    "   }\n",
    "   session = Session.builder.configs(connection_parameters).create()\n",
    "   print(session.sql('select current_warehouse(), current_database(), current_schema()').collect())\n",
    "   return session"
   ]
  },
  {
   "cell_type": "code",
   "execution_count": 6,
   "metadata": {},
   "outputs": [
    {
     "name": "stdout",
     "output_type": "stream",
     "text": [
      "[Row(CURRENT_WAREHOUSE()='COMPUTE_WH', CURRENT_DATABASE()='FENGDB', CURRENT_SCHEMA()='FENGSCHEMA')]\n"
     ]
    }
   ],
   "source": [
    "session = create_session_object()"
   ]
  },
  {
   "cell_type": "code",
   "execution_count": 22,
   "metadata": {},
   "outputs": [],
   "source": [
    "from snowflake.snowpark.types import StructType, StructField, IntegerType, StringType, FloatType\n",
    "user_schema = StructType([\\\n",
    "                            StructField(\"name\", StringType()), \\\n",
    "                            StructField(\"age\", IntegerType())\\\n",
    "                        ])\n",
    "\n",
    "sp_df=session.read\\\n",
    "    .options({\"field_delimiter\": \"\\t\", \"skip_header\": 0})\\\n",
    "    .schema(user_schema)\\\n",
    "    .csv(\"@my_internal_stage/export.tsv_0_0_0.csv\")"
   ]
  },
  {
   "cell_type": "code",
   "execution_count": 23,
   "metadata": {},
   "outputs": [
    {
     "data": {
      "text/plain": [
       "[Row(NAME='Tom', AGE=33), Row(NAME='John', AGE=29)]"
      ]
     },
     "execution_count": 23,
     "metadata": {},
     "output_type": "execute_result"
    }
   ],
   "source": [
    "sp_df.collect()"
   ]
  },
  {
   "cell_type": "code",
   "execution_count": 27,
   "metadata": {},
   "outputs": [
    {
     "data": {
      "text/html": [
       "<div>\n",
       "<style scoped>\n",
       "    .dataframe tbody tr th:only-of-type {\n",
       "        vertical-align: middle;\n",
       "    }\n",
       "\n",
       "    .dataframe tbody tr th {\n",
       "        vertical-align: top;\n",
       "    }\n",
       "\n",
       "    .dataframe thead th {\n",
       "        text-align: right;\n",
       "    }\n",
       "</style>\n",
       "<table border=\"1\" class=\"dataframe\">\n",
       "  <thead>\n",
       "    <tr style=\"text-align: right;\">\n",
       "      <th></th>\n",
       "      <th>NAME</th>\n",
       "      <th>AGE</th>\n",
       "    </tr>\n",
       "  </thead>\n",
       "  <tbody>\n",
       "    <tr>\n",
       "      <th>0</th>\n",
       "      <td>Tom</td>\n",
       "      <td>33</td>\n",
       "    </tr>\n",
       "    <tr>\n",
       "      <th>1</th>\n",
       "      <td>John</td>\n",
       "      <td>29</td>\n",
       "    </tr>\n",
       "  </tbody>\n",
       "</table>\n",
       "</div>"
      ],
      "text/plain": [
       "   NAME  AGE\n",
       "0   Tom   33\n",
       "1  John   29"
      ]
     },
     "execution_count": 27,
     "metadata": {},
     "output_type": "execute_result"
    }
   ],
   "source": [
    "pd.DataFrame(sp_df.collect())"
   ]
  },
  {
   "cell_type": "code",
   "execution_count": null,
   "metadata": {},
   "outputs": [],
   "source": [
    "sp_df.to_pandas()"
   ]
  },
  {
   "cell_type": "code",
   "execution_count": 8,
   "metadata": {},
   "outputs": [],
   "source": [
    "json_df = session.read.option(\"compression\", \"gzip\").json(\"@json_stage/book.json.gz\")"
   ]
  },
  {
   "cell_type": "code",
   "execution_count": 9,
   "metadata": {},
   "outputs": [
    {
     "name": "stdout",
     "output_type": "stream",
     "text": [
      "--------------------------------------\n",
      "|\"$1\"                                |\n",
      "--------------------------------------\n",
      "|[                                   |\n",
      "|  {                                 |\n",
      "|    \"authors\": [                    |\n",
      "|      {                             |\n",
      "|        \"first_name\": \"Fiona\",      |\n",
      "|        \"last_name\": \"Macdonald\",   |\n",
      "|        \"middle_name\": null         |\n",
      "|      },                            |\n",
      "|      {                             |\n",
      "|        \"first_name\": \"Gian\",       |\n",
      "|        \"last_name\": \"Faleschini\",  |\n",
      "|        \"middle_name\": \"Paulo\"      |\n",
      "|      }                             |\n",
      "|    ],                              |\n",
      "|    \"book_title\": \"Food\",           |\n",
      "|    \"year_published\": 2001          |\n",
      "|  },                                |\n",
      "|  {                                 |\n",
      "|    \"authors\": [                    |\n",
      "|      {                             |\n",
      "|        \"first_name\": \"Laura\",      |\n",
      "|        \"last_name\": \"Egendorf\",    |\n",
      "|        \"middle_name\": \"K\"          |\n",
      "|      }                             |\n",
      "|    ],                              |\n",
      "|    \"book_title\": \"Food\",           |\n",
      "|    \"year_published\": 2006          |\n",
      "|  }                                 |\n",
      "|]                                   |\n",
      "--------------------------------------\n",
      "\n"
     ]
    }
   ],
   "source": [
    "json_df.show()"
   ]
  },
  {
   "cell_type": "code",
   "execution_count": null,
   "metadata": {},
   "outputs": [],
   "source": []
  }
 ],
 "metadata": {
  "kernelspec": {
   "display_name": "py38",
   "language": "python",
   "name": "python3"
  },
  "language_info": {
   "codemirror_mode": {
    "name": "ipython",
    "version": 3
   },
   "file_extension": ".py",
   "mimetype": "text/x-python",
   "name": "python",
   "nbconvert_exporter": "python",
   "pygments_lexer": "ipython3",
   "version": "3.8.15"
  },
  "orig_nbformat": 4,
  "vscode": {
   "interpreter": {
    "hash": "211e5cba315770613fd1d5806464df0e6ce68c662cfd4224c53dc492b9c1ee75"
   }
  }
 },
 "nbformat": 4,
 "nbformat_minor": 2
}
